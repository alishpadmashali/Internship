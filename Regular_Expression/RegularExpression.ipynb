{
 "cells": [
  {
   "cell_type": "markdown",
   "id": "f8703c5a",
   "metadata": {},
   "source": [
    "# Regular Expression"
   ]
  },
  {
   "cell_type": "code",
   "execution_count": 39,
   "id": "9b4d9a1a",
   "metadata": {},
   "outputs": [
    {
     "name": "stdout",
     "output_type": "stream",
     "text": [
      "Python:Exercises::PHP:exercises:\n"
     ]
    }
   ],
   "source": [
    "import regex as re\n",
    "def replace(text):\n",
    "    pattern = r'[ ,.]'\n",
    "    replaced_text = re.sub(pattern,':',text)\n",
    "    return replaced_text\n",
    "sample_text='Python Exercises, PHP exercises.'\n",
    "replaced=replace(sample_text)\n",
    "print(replaced)"
   ]
  },
  {
   "cell_type": "code",
   "execution_count": 47,
   "id": "b8eb049f",
   "metadata": {},
   "outputs": [
    {
     "name": "stdout",
     "output_type": "stream",
     "text": [
      "Hi world Welcome to Data Science.\n"
     ]
    }
   ],
   "source": [
    "#25\n",
    "def duplicate(sentence):\n",
    "    pattern=r'\\b(\\w+)\\b(?:\\s+\\1\\b)+'\n",
    "    replaced_text=re.sub(pattern, r'\\1', sentence)\n",
    "    return replaced_text\n",
    "sample_sentence='Hi world world Welcome to Data Data Science.'\n",
    "result=duplicate(sample_sentence)\n",
    "print(result)"
   ]
  },
  {
   "cell_type": "code",
   "execution_count": 48,
   "id": "0220ca69",
   "metadata": {},
   "outputs": [
    {
     "name": "stdout",
     "output_type": "stream",
     "text": [
      "['Machine', 'Artificial', 'Data', 'Science']\n"
     ]
    }
   ],
   "source": [
    "#24\n",
    "def UPPERCASE_lowercase(text):\n",
    "    pattern=r'[A-Z][a-z]+'\n",
    "    matches=re.findall(pattern, text)\n",
    "    return matches\n",
    "sample_text='Machine learning and Artificial inteligence is part of Data Science.'\n",
    "result=UPPERCASE_lowercase(sample_text)\n",
    "print(result)"
   ]
  },
  {
   "cell_type": "code",
   "execution_count": 53,
   "id": "b8266143",
   "metadata": {},
   "outputs": [
    {
     "name": "stdout",
     "output_type": "stream",
     "text": [
      "234\n"
     ]
    }
   ],
   "source": [
    "#22\n",
    "def MAX(string):\n",
    "    numericvalues=re.findall(r'\\d+', string)\n",
    "    if numericvalues:\n",
    "        maxvalue=max(map(int, numericvalues))\n",
    "        return maxvalue\n",
    "    else:\n",
    "        return None\n",
    "sample10='234 is greater than 190'\n",
    "Max_num=MAX(sample10)\n",
    "print(Max_num)"
   ]
  },
  {
   "cell_type": "code",
   "execution_count": 60,
   "id": "d505eced",
   "metadata": {},
   "outputs": [
    {
     "name": "stdout",
     "output_type": "stream",
     "text": [
      "I Love Programming\n"
     ]
    }
   ],
   "source": [
    "#23\n",
    "def Capital_words(text):\n",
    "    pattern=r'([A-Z][a-z]+)'\n",
    "    replaced_text=re.sub(pattern, r' \\1', text)\n",
    "    return replaced_text.strip()\n",
    "sample_text='ILoveProgramming'\n",
    "result=Capital_words(sample_text)\n",
    "print(result)"
   ]
  },
  {
   "cell_type": "code",
   "execution_count": 61,
   "id": "b26f283d",
   "metadata": {},
   "outputs": [
    {
     "name": "stdout",
     "output_type": "stream",
     "text": [
      "Number: 91, Start Position: 30, End Position: 32\n",
      "Number: 35, Start Position: 47, End Position: 49\n"
     ]
    }
   ],
   "source": [
    "#21\n",
    "def separate_numbers(string):\n",
    "    pattern=r'\\d+'\n",
    "    matches=re.finditer(pattern, string)\n",
    "    for match in matches:\n",
    "        number=match.group()\n",
    "        start_pos=match.start()\n",
    "        end_pos=match.end()\n",
    "        print(f\"Number: {number}, Start Position: {start_pos}, End Position: {end_pos}\")\n",
    "sample_string='in the class highest marks is 91 and lowest is 35'\n",
    "separate_numbers(sample_string)"
   ]
  },
  {
   "cell_type": "code",
   "execution_count": 62,
   "id": "f36075a8",
   "metadata": {},
   "outputs": [
    {
     "name": "stdout",
     "output_type": "stream",
     "text": [
      "['An', 'apple', 'away', 'eminem']\n"
     ]
    }
   ],
   "source": [
    "#20\n",
    "def a_or_e(string):\n",
    "    pattern=r'\\b[aeAE]\\w+\\b'\n",
    "    matches=re.findall(pattern, string)\n",
    "    return matches\n",
    "sample_string='An apple a day keeps doctor away by eminem.'\n",
    "result=a_or_e(sample_string)\n",
    "print(result)"
   ]
  },
  {
   "cell_type": "code",
   "execution_count": 64,
   "id": "b161f0e9",
   "metadata": {},
   "outputs": [
    {
     "name": "stdout",
     "output_type": "stream",
     "text": [
      "Substring: sample, Start Position: 5, End Position: 11\n",
      "Substring: sample, Start Position: 31, End Position: 37\n"
     ]
    }
   ],
   "source": [
    "#18\n",
    "def find_occurrence_and_position(string, substring):\n",
    "    pattern=re.compile(re.escape(substring))\n",
    "    matches=pattern.finditer(string)\n",
    "    for match in matches:\n",
    "        start_pos=match.start()\n",
    "        end_pos=match.end()\n",
    "        occurrence=match.group()\n",
    "        print(f\"Substring: {occurrence}, Start Position: {start_pos}, End Position: {end_pos}\")\n",
    "sample_string='This sample string and another sample.'\n",
    "target_substring='sample'\n",
    "find_occurrence_and_position(sample_string, target_substring)"
   ]
  },
  {
   "cell_type": "code",
   "execution_count": 65,
   "id": "3b6fcc4d",
   "metadata": {},
   "outputs": [
    {
     "name": "stdout",
     "output_type": "stream",
     "text": [
      "14-07-2023\n"
     ]
    }
   ],
   "source": [
    "#19\n",
    "from datetime import datetime\n",
    "def convert_date_format(date_str):\n",
    "    # YYYY-MM-DD\n",
    "    date_obj=datetime.strptime(date_str, '%Y-%m-%d')\n",
    "    # DD-MM-YYYY\n",
    "    converted_date=date_obj.strftime('%d-%m-%Y')\n",
    "    return converted_date\n",
    "date_str='2023-07-14'\n",
    "converted_date=convert_date_format(date_str)\n",
    "print(converted_date)"
   ]
  },
  {
   "cell_type": "code",
   "execution_count": 66,
   "id": "9db725b4",
   "metadata": {},
   "outputs": [
    {
     "name": "stdout",
     "output_type": "stream",
     "text": [
      "Found words: ['fox', 'dog']\n"
     ]
    }
   ],
   "source": [
    "#15\n",
    "def search_words(text, searched_words):\n",
    "    found_words=[]\n",
    "    for word in searched_words:\n",
    "        pattern=re.compile(r'\\b' + re.escape(word) + r'\\b')\n",
    "        if re.search(pattern, text):\n",
    "            found_words.append(word)\n",
    "    return found_words\n",
    "sample_text='The quick brown fox jumps over the lazy dog.'\n",
    "searched_words=['fox', 'dog', 'horse']\n",
    "found_words=search_words(sample_text, searched_words)\n",
    "print(\"Found words:\", found_words)"
   ]
  },
  {
   "cell_type": "code",
   "execution_count": 67,
   "id": "35f908a9",
   "metadata": {},
   "outputs": [
    {
     "name": "stdout",
     "output_type": "stream",
     "text": [
      "Cleaned text: @Jags123456 Bharat band on 28??<ed><ed>Those who are protesting #demonetization are all different party leaders\n"
     ]
    }
   ],
   "source": [
    "#28\n",
    "def Removesymbols(text):\n",
    "    pattern=re.compile(r'<U\\+[\\w]+>')\n",
    "    cleaned_text=re.sub(pattern, '', text)\n",
    "    return cleaned_text\n",
    "sample_text=\"@Jags123456 Bharat band on 28??<ed><U+00A0><U+00BD><ed><U+00B8><U+0082>Those who are protesting #demonetization are all different party leaders\"\n",
    "\n",
    "cleaned_text=Removesymbols(sample_text)\n",
    "print(\"Cleaned text:\", cleaned_text)"
   ]
  },
  {
   "cell_type": "code",
   "execution_count": 68,
   "id": "45938317",
   "metadata": {},
   "outputs": [
    {
     "name": "stdout",
     "output_type": "stream",
     "text": [
      "String ends with an alphanumeric character.\n"
     ]
    }
   ],
   "source": [
    "#26\n",
    "def alphanumeric(text):\n",
    "    pattern=re.compile(r'^.*[a-zA-Z0-9]$')\n",
    "    match=re.match(pattern, text)\n",
    "    if match:\n",
    "        return True\n",
    "    return False\n",
    "sample_text=\"Check Check123123\"\n",
    "if alphanumeric(sample_text):\n",
    "    print(\"String ends with an alphanumeric character.\")\n",
    "else:\n",
    "    print(\"String does not end with an alphanumeric character.\")"
   ]
  },
  {
   "cell_type": "code",
   "execution_count": 22,
   "id": "5efa7caa",
   "metadata": {},
   "outputs": [
    {
     "name": "stdout",
     "output_type": "stream",
     "text": [
      "Pattern found at location(s): [16]\n"
     ]
    }
   ],
   "source": [
    "#16\n",
    "def search_string_with_location(text, searched_word):\n",
    "    patter=re.compile(re.escape(searched_word))\n",
    "    matches=re.finditer(pattern, text)\n",
    "    locations=[match.start() for match in matches]\n",
    "    return locations\n",
    "sample_text='The quick brown fox jumps over the lazy dog.'\n",
    "searched_word='fox'\n",
    "found_locations=search_string_with_location(sample_text, searched_word)\n",
    "if found_locations:\n",
    "    print(\"Pattern found at location(s):\", found_locations)\n",
    "else:\n",
    "    print(\"Pattern not found in the text.\")"
   ]
  },
  {
   "cell_type": "code",
   "execution_count": 72,
   "id": "b494470a",
   "metadata": {},
   "outputs": [
    {
     "name": "stdout",
     "output_type": "stream",
     "text": [
      "Cleaned IP address: 182.178.21.41\n"
     ]
    }
   ],
   "source": [
    "#13\n",
    "def remove_zeros(ip_address):\n",
    "    pattern=re.compile(r'\\b0+(\\d+)\\b')\n",
    "    cleaned_ip=re.sub(pattern, r'\\1', ip_address)\n",
    "    return cleaned_ip\n",
    "ip_address='182.178.021.041'\n",
    "cleaned_ip=remove_zeros(ip_address)\n",
    "print(\"Cleaned IP address:\", cleaned_ip)"
   ]
  },
  {
   "cell_type": "code",
   "execution_count": 78,
   "id": "7708096e",
   "metadata": {},
   "outputs": [
    {
     "name": "stdout",
     "output_type": "stream",
     "text": [
      "The word matches at the beginning of the string.\n"
     ]
    }
   ],
   "source": [
    "#10\n",
    "def word_at_beginning(pattern, text):\n",
    "    match = re.match(pattern, text)\n",
    "    if match:\n",
    "        return True\n",
    "    return False\n",
    "pattern=r'^\\w+'  # Matches a word at the beginning of a string\n",
    "text='Data Science'\n",
    "if word_at_beginning(pattern, text):\n",
    "    print(\"The word matches at the beginning of the string.\")\n",
    "else:\n",
    "    print(\"The word does not match at the beginning of the string.\")\n",
    "    "
   ]
  },
  {
   "cell_type": "code",
   "execution_count": 82,
   "id": "d1156f5d",
   "metadata": {},
   "outputs": [
    {
     "name": "stdout",
     "output_type": "stream",
     "text": [
      "The string starts with the number.\n"
     ]
    }
   ],
   "source": [
    "#12\n",
    "def startswithnu(text, number):\n",
    "    pattern = re.compile(r'^' + str(number))\n",
    "    match = re.search(pattern, text)\n",
    "    if match:\n",
    "        return True\n",
    "    return False\n",
    "text='123CheckCheck'\n",
    "number=123\n",
    "if startswithnu(text, number):\n",
    "    print(\"The string starts with the number.\")\n",
    "else:\n",
    "    print(\"The string does not start with the number.\")"
   ]
  },
  {
   "cell_type": "code",
   "execution_count": 86,
   "id": "7eda0469",
   "metadata": {},
   "outputs": [
    {
     "name": "stdout",
     "output_type": "stream",
     "text": [
      "The string is not valid.\n"
     ]
    }
   ],
   "source": [
    "#11\n",
    "def valid_string(text):\n",
    "    pattern = re.compile(r'^[a-zA-Z0-9_]+$')\n",
    "    match = re.match(pattern, text)\n",
    "    if match:\n",
    "        return True\n",
    "    return False\n",
    "sample1= 'hello_My_Name,is_Nikum'\n",
    "if valid_string(sample1):\n",
    "    print(\"The string is valid.\")\n",
    "else:\n",
    "    print(\"The string is not valid.\")"
   ]
  },
  {
   "cell_type": "code",
   "execution_count": 85,
   "id": "13c7797a",
   "metadata": {},
   "outputs": [
    {
     "name": "stdout",
     "output_type": "stream",
     "text": [
      "Split text: ['Importance', 'Of', 'Regular', 'Expressions', 'In', 'Python']\n"
     ]
    }
   ],
   "source": [
    "#6\n",
    "sample=\"ImportanceOfRegularExpressionsInPython\"\n",
    "split_text=re.findall('[A-Z][a-z]*', sample)\n",
    "print(\"Split text:\", split_text)"
   ]
  },
  {
   "cell_type": "code",
   "execution_count": 87,
   "id": "c9b97ae7",
   "metadata": {},
   "outputs": [
    {
     "name": "stdout",
     "output_type": "stream",
     "text": [
      "Sequences found: ['underscored_with']\n"
     ]
    }
   ],
   "source": [
    "#8\n",
    "def Sequences(text):\n",
    "    pattern=re.compile(r'[a-z]+_[a-z]+')\n",
    "    sequences=re.findall(pattern, text)\n",
    "    return sequences\n",
    "sample2=\"this sentence is underscored_with lowercase\"\n",
    "sequences=find_sequences(sample2)\n",
    "print(\"Sequences found:\", sequences)"
   ]
  },
  {
   "cell_type": "code",
   "execution_count": 91,
   "id": "79aed5a4",
   "metadata": {},
   "outputs": [
    {
     "name": "stdout",
     "output_type": "stream",
     "text": [
      "Contains only the allowed characters.\n"
     ]
    }
   ],
   "source": [
    "#1\n",
    "def contains_only_allowed_chars(text):\n",
    "    pattern=re.compile(r'^[a-zA-Z0-9]+$')\n",
    "    match=re.match(pattern, text)\n",
    "    if match:\n",
    "        return True\n",
    "    return False\n",
    "sample4=\"datascience\"\n",
    "if contains_only_allowed_chars(sample4):\n",
    "    print(\"Contains only the allowed characters.\")\n",
    "else:\n",
    "    print(\"Contains characters other than the allowed characters.\")"
   ]
  },
  {
   "cell_type": "code",
   "execution_count": 90,
   "id": "1264233b",
   "metadata": {},
   "outputs": [
    {
     "name": "stdout",
     "output_type": "stream",
     "text": [
      "Matches the pattern.\n"
     ]
    }
   ],
   "source": [
    "#2\n",
    "def match_a_followed_by_bs(text):\n",
    "    pattern=re.compile(r'ab*')\n",
    "    match=re.fullmatch(pattern, text)\n",
    "    if match:\n",
    "        return True\n",
    "    return False\n",
    "sample5= \"abb\"\n",
    "if match_a_followed_by_bs(sample5):\n",
    "    print(\"Matches the pattern.\")\n",
    "else:\n",
    "    print(\"Does not match the pattern.\")"
   ]
  },
  {
   "cell_type": "code",
   "execution_count": 93,
   "id": "5d2ca6a3",
   "metadata": {},
   "outputs": [
    {
     "name": "stdout",
     "output_type": "stream",
     "text": [
      "Matches the pattern.\n"
     ]
    }
   ],
   "source": [
    "#3\n",
    "def match_a_followed_by_one_or_more_bs(text):\n",
    "    pattern=re.compile(r'ab+')\n",
    "    match=re.fullmatch(pattern, text)\n",
    "    if match:\n",
    "        return True\n",
    "    return False\n",
    "sample6=\"abbb\"\n",
    "if match_a_followed_by_one_or_more_bs(sample6):\n",
    "    print(\"Matches the pattern.\")\n",
    "else:\n",
    "    print(\"Does not match the pattern.\")"
   ]
  },
  {
   "cell_type": "code",
   "execution_count": 95,
   "id": "72205b71",
   "metadata": {},
   "outputs": [
    {
     "name": "stdout",
     "output_type": "stream",
     "text": [
      "Extracted hashtags: ['#Doltiwal', '#xyzabc', '#Demonetization']\n"
     ]
    }
   ],
   "source": [
    "#27\n",
    "def hashtags(text):\n",
    "    hashtags=re.findall(r'#\\w+', text)\n",
    "    return hashtags\n",
    "sample7='RT @kapil_kausik: #Doltiwal I mean #xyzabc is \"hurt\" by #Demonetization as the same has rendered USELESS <ed><U+00A0><U+00BD><ed><U+00B1><U+0089> \"acquired funds\" No wo'\n",
    "hashtags=hashtags(sample7)\n",
    "print(\"Extracted hashtags:\", hashtags)"
   ]
  },
  {
   "cell_type": "code",
   "execution_count": null,
   "id": "1f580814",
   "metadata": {},
   "outputs": [],
   "source": []
  }
 ],
 "metadata": {
  "kernelspec": {
   "display_name": "Python 3 (ipykernel)",
   "language": "python",
   "name": "python3"
  },
  "language_info": {
   "codemirror_mode": {
    "name": "ipython",
    "version": 3
   },
   "file_extension": ".py",
   "mimetype": "text/x-python",
   "name": "python",
   "nbconvert_exporter": "python",
   "pygments_lexer": "ipython3",
   "version": "3.9.13"
  }
 },
 "nbformat": 4,
 "nbformat_minor": 5
}
